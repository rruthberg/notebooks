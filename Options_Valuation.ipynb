{
 "cells": [
  {
   "cell_type": "markdown",
   "metadata": {},
   "source": [
    "## Options Valuation"
   ]
  },
  {
   "cell_type": "markdown",
   "metadata": {},
   "source": [
    "This notebook is an exploratory analysis of options valuation for trading strategies. The goal is to investigate  valuation of Swedish large-cap stock options and create templates that can be productionalized. These templates will be in the areas of 1) Covered call, 2) Vertical spread (Bull call, Bear put),  3) Iron Condor, 4) Straddle, 5) Strangle, 6) Butterfly Spread, 7) Naked call, and more. "
   ]
  },
  {
   "cell_type": "markdown",
   "metadata": {},
   "source": [
    "## Visualisation"
   ]
  },
  {
   "cell_type": "code",
   "execution_count": 2,
   "metadata": {
    "collapsed": true
   },
   "outputs": [],
   "source": [
    "#PnL diagram and distribution visualisation with thresholds\n",
    "import pandas as pd\n",
    "import numpy as np\n",
    "import matplotlib.pyplot as plt\n",
    "import seaborn as sns\n",
    "\n",
    "%matplotlib inline"
   ]
  },
  {
   "cell_type": "code",
   "execution_count": 23,
   "metadata": {},
   "outputs": [
    {
     "data": {
      "text/html": [
       "<div>\n",
       "<style>\n",
       "    .dataframe thead tr:only-child th {\n",
       "        text-align: right;\n",
       "    }\n",
       "\n",
       "    .dataframe thead th {\n",
       "        text-align: left;\n",
       "    }\n",
       "\n",
       "    .dataframe tbody tr th {\n",
       "        vertical-align: top;\n",
       "    }\n",
       "</style>\n",
       "<table border=\"1\" class=\"dataframe\">\n",
       "  <thead>\n",
       "    <tr style=\"text-align: right;\">\n",
       "      <th></th>\n",
       "      <th>Date</th>\n",
       "      <th>price_USD</th>\n",
       "      <th>price_return</th>\n",
       "    </tr>\n",
       "  </thead>\n",
       "  <tbody>\n",
       "    <tr>\n",
       "      <th>1</th>\n",
       "      <td>2013-10-02</td>\n",
       "      <td>125.58083</td>\n",
       "      <td>0.018830</td>\n",
       "    </tr>\n",
       "    <tr>\n",
       "      <th>2</th>\n",
       "      <td>2013-10-03</td>\n",
       "      <td>100.81083</td>\n",
       "      <td>-0.197243</td>\n",
       "    </tr>\n",
       "    <tr>\n",
       "      <th>3</th>\n",
       "      <td>2013-10-04</td>\n",
       "      <td>116.96700</td>\n",
       "      <td>0.160262</td>\n",
       "    </tr>\n",
       "    <tr>\n",
       "      <th>4</th>\n",
       "      <td>2013-10-05</td>\n",
       "      <td>121.17883</td>\n",
       "      <td>0.036009</td>\n",
       "    </tr>\n",
       "    <tr>\n",
       "      <th>5</th>\n",
       "      <td>2013-10-06</td>\n",
       "      <td>121.18516</td>\n",
       "      <td>0.000052</td>\n",
       "    </tr>\n",
       "  </tbody>\n",
       "</table>\n",
       "</div>"
      ],
      "text/plain": [
       "         Date  price_USD  price_return\n",
       "1  2013-10-02  125.58083      0.018830\n",
       "2  2013-10-03  100.81083     -0.197243\n",
       "3  2013-10-04  116.96700      0.160262\n",
       "4  2013-10-05  121.17883      0.036009\n",
       "5  2013-10-06  121.18516      0.000052"
      ]
     },
     "execution_count": 23,
     "metadata": {},
     "output_type": "execute_result"
    }
   ],
   "source": [
    "#Proxy data from BTC\n",
    "btc_data_filepath = \"data/BTC_CoinDesk.csv\"\n",
    "#Read BTC data from file\n",
    "delim1 = \",\"\n",
    "btcdata = pd.read_csv(btc_data_filepath, sep=delim1)\n",
    "btcdata[\"Date\"] = pd.DataFrame([x[0:10] for x in btcdata[\"date_UTC\"]])\n",
    "btcdata=btcdata.dropna()\n",
    "btcdata[\"price_return\"] = btcdata[\"price_USD\"].pct_change()\n",
    "btcdata = btcdata[[\"Date\",\"price_USD\",\"price_return\"]]\n",
    "btcdata=btcdata.dropna()\n",
    "#btcdata[\"price_return\"] = np.log(btcdata[\"price_return\"])\n",
    "btcdata.head()"
   ]
  },
  {
   "cell_type": "code",
   "execution_count": 84,
   "metadata": {},
   "outputs": [
    {
     "data": {
      "text/plain": [
       "<matplotlib.lines.Line2D at 0x14c97059da0>"
      ]
     },
     "execution_count": 84,
     "metadata": {},
     "output_type": "execute_result"
    },
    {
     "data": {
      "image/png": "[encoded data removed]",
      "text/plain": [
       "<matplotlib.figure.Figure at 0x14c96f1df98>"
      ]
     },
     "metadata": {},
     "output_type": "display_data"
    }
   ],
   "source": [
    "#Simulate data from empirical distribution\n",
    "last_price = 70\n",
    "days_forward = 5\n",
    "sample_days_back = 1000\n",
    "n_prices = 10000\n",
    "strike = 72.5\n",
    "\n",
    "def simulateForwardValue(price_start, days_forward, df_sample):\n",
    "    pct_sum = np.sum(df_sample.sample(n=days_forward,replace=True))\n",
    "    fwd_incr = 1+pct_sum #simple assumption, linear and independent path\n",
    "    return price_start*fwd_incr\n",
    "\n",
    "def simulateForwardDistribution(sim_len, price_start, days_forward, df_sample):\n",
    "    sim_data = []\n",
    "    for i in range(0,sim_len):\n",
    "        sim_data.append(simulateForwardValue(price_start,days_forward,df_sample))\n",
    "    return pd.DataFrame({'simulation_results':sim_data})\n",
    "\n",
    "def getEmpProbGreater(threshold,df_sample):\n",
    "    tot_count = df_sample.count()\n",
    "    thres_count = df_sample[df_sample > threshold].dropna().count().values\n",
    "    result = 0\n",
    "    if tot_count.values > 0.0:\n",
    "        result = thres_count/tot_count\n",
    "    return result\n",
    "\n",
    "simdata = simulateForwardDistribution(n_prices,last_price,days_forward,btcdata[\"price_return\"].iloc[len(btcdata)-sample_days_back:len(btcdata)])\n",
    "res = simdata.describe()\n",
    "t_25 = res[4:5].values[0][0]\n",
    "s_mean = simdata[\"simulation_results\"].mean()\n",
    "t_75 = res[6:7].values[0][0]\n",
    "\n",
    "sns.set(style=\"white\", palette=\"muted\", color_codes=True)\n",
    "f, axes = plt.subplots(1, 1, figsize=(18, 6), sharex=False)\n",
    "sns.despine(left=True)\n",
    "ax = sns.distplot(simdata, kde=True, color=\"b\")\n",
    "ax.set(xlabel=f'Simulated Price Distribution') #{var}\n",
    "\n",
    "plt.axvline(t_25, 0, 1, color='g') \n",
    "plt.axvline(s_mean, 0, 1, color='b') \n",
    "plt.axvline(t_75, 0,1, color='g') \n",
    "plt.axvline(strike, 0,1, color='r') "
   ]
  },
  {
   "cell_type": "code",
   "execution_count": 87,
   "metadata": {},
   "outputs": [],
   "source": [
    "b = getEmpProbGreater(strike,simdata) #sample probability that price > strike in simulated distribution"
   ]
  },
  {
   "cell_type": "code",
   "execution_count": 88,
   "metadata": {},
   "outputs": [
    {
     "data": {
      "text/plain": [
       "simulation_results    0.1662\n",
       "dtype: float64"
      ]
     },
     "execution_count": 88,
     "metadata": {},
     "output_type": "execute_result"
    }
   ],
   "source": [
    "a = getEmpProbGreater(last_price,simdata)\n",
    "a-b"
   ]
  },
  {
   "cell_type": "code",
   "execution_count": 15,
   "metadata": {},
   "outputs": [
    {
     "data": {
      "text/plain": [
       "2.7182818284590451"
      ]
     },
     "execution_count": 15,
     "metadata": {},
     "output_type": "execute_result"
    }
   ],
   "source": [
    "np.exp(1)"
   ]
  },
  {
   "cell_type": "code",
   "execution_count": 81,
   "metadata": {},
   "outputs": [
    {
     "data": {
      "text/plain": [
       "1933"
      ]
     },
     "execution_count": 81,
     "metadata": {},
     "output_type": "execute_result"
    }
   ],
   "source": [
    "len(btcdata)"
   ]
  },
  {
   "cell_type": "code",
   "execution_count": null,
   "metadata": {
    "collapsed": true
   },
   "outputs": [],
   "source": []
  }
 ],
 "metadata": {
  "kernelspec": {
   "display_name": "Python 3",
   "language": "python",
   "name": "python3"
  },
  "language_info": {
   "codemirror_mode": {
    "name": "ipython",
    "version": 3
   },
   "file_extension": ".py",
   "mimetype": "text/x-python",
   "name": "python",
   "nbconvert_exporter": "python",
   "pygments_lexer": "ipython3",
   "version": "3.6.3"
  }
 },
 "nbformat": 4,
 "nbformat_minor": 2
}
